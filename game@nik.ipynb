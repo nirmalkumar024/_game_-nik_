{
 "cells": [
  {
   "cell_type": "code",
   "execution_count": null,
   "id": "42b2f8a5-99d2-4201-ab7f-d8004cca9d1a",
   "metadata": {},
   "outputs": [
    {
     "name": "stdout",
     "output_type": "stream",
     "text": [
      "comp Turn:Snake(s)Water(w) or Gun(g)\n"
     ]
    }
   ],
   "source": [
    "import random\n",
    "\n",
    "def gamewin(comp,you):\n",
    "    if comp==you:\n",
    "        return None\n",
    "    elif comp=='s':\n",
    "        if you=='w':\n",
    "            return False\n",
    "        elif you=='g':\n",
    "            return True\n",
    "    elif comp=='w':\n",
    "        if you=='g':\n",
    "            return False\n",
    "        elif you=='s':\n",
    "            return True\n",
    "        elif comp=='g':\n",
    "            if you=='s':\n",
    "                return False\n",
    "            elif you=='w':\n",
    "                return True\n",
    "            \n",
    "print(\"comp Turn:Snake(s)Water(w) or Gun(g)\")\n",
    "\n",
    "randNo=random.randint(1,3)\n",
    "if randNo==1:\n",
    "    comp='s'\n",
    "elif randNo==2:\n",
    "    comp='w'\n",
    "elif randNo==3:\n",
    "     comp='g'\n",
    "            \n",
    "you=input(\"your Turn:snake(s) water(w) or Gun(g)\")\n",
    "\n",
    "a=gameWin(comp,you)\n",
    "print(f\"computer choose{comp}\")\n",
    "print(f\"you choose{you}\")\n",
    "\n",
    "if a==None:\n",
    "    print (\"The game is a tie!\")\n",
    "elif a:\n",
    "    print(\"you win!\")\n",
    "else:\n",
    "    print(\"you lose!\")"
   ]
  },
  {
   "cell_type": "code",
   "execution_count": null,
   "id": "c3e7a6cd-b350-4dd7-86fe-e5baec9a4aaa",
   "metadata": {},
   "outputs": [],
   "source": []
  }
 ],
 "metadata": {
  "kernelspec": {
   "display_name": "Python 3 (ipykernel)",
   "language": "python",
   "name": "python3"
  },
  "language_info": {
   "codemirror_mode": {
    "name": "ipython",
    "version": 3
   },
   "file_extension": ".py",
   "mimetype": "text/x-python",
   "name": "python",
   "nbconvert_exporter": "python",
   "pygments_lexer": "ipython3",
   "version": "3.10.8"
  }
 },
 "nbformat": 4,
 "nbformat_minor": 5
}
